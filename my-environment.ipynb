{
 "cells": [
  {
   "cell_type": "markdown",
   "metadata": {},
   "source": [
    "# Tools I use\n",
    "This notebook contains names, links, and info about development tools I use.\n",
    "\n",
    "Maybe someday I'll make this runnable to install as much as possible.\n",
    "\n",
    "-----"
   ]
  },
  {
   "cell_type": "markdown",
   "metadata": {},
   "source": [
    "## Homebrew\n",
    "\n",
    "OSX package manager. This install is very unsafe, but don't know a better way.\n",
    "\n",
    "```\n",
    "ruby -e \"$(curl -fsSL https://raw.githubusercontent.com/Homebrew/install/master/install)\"\n",
    "```\n",
    "\n",
    "-----\n"
   ]
  },
  {
   "cell_type": "markdown",
   "metadata": {},
   "source": [
    "## wget\n",
    "\n",
    "Command-line downloader.\n",
    "\n",
    "```\n",
    "brew install wget\n",
    "```\n",
    "\n",
    "-----"
   ]
  },
  {
   "cell_type": "markdown",
   "metadata": {},
   "source": [
    "## lazygit\n",
    "\n",
    "Awesome git UI.\n",
    "\n",
    "```\n",
    "brew tap jesseduffield/lazygit\n",
    "brew install lazygit\n",
    "```\n",
    "\n",
    "----"
   ]
  },
  {
   "cell_type": "markdown",
   "metadata": {},
   "source": [
    "## Sublime text\n",
    "\n",
    "Text editor.\n",
    "\n",
    "https://www.sublimetext.com\n",
    "\n",
    "-----"
   ]
  },
  {
   "cell_type": "markdown",
   "metadata": {},
   "source": [
    "## iterm2\n",
    "\n",
    "Terminal.\n",
    "\n",
    "![image.png](img/terminal.png)\n",
    "\n",
    "https://www.iterm2.com/\n",
    "\n",
    "#### zsh\n",
    " \n",
    "The shell I use.\n",
    "\n",
    "https://github.com/robbyrussell/oh-my-zsh/wiki/Installing-ZSH\n",
    "\n",
    "OSX comes with a decently recent zsh now (5.3 in mid-2018)\n",
    "\n",
    "```\n",
    "chsh -s /bin/zsh\n",
    "sh -c \"$(wget https://raw.githubusercontent.com/robbyrussell/oh-my-zsh/master/tools/install.sh -O -)\"\n",
    "```\n",
    "\n",
    "#### Oh My Zsh\n",
    "\n",
    "https://github.com/robbyrussell/oh-my-zsh\n",
    "\n",
    "Also see given .profile and .zshrc files\n",
    "\n",
    "#### Powerline fonts\n",
    "\n",
    "Use 14pt Meslo LG S DZ Regular for Powerline \n",
    "\n",
    "- https://github.com/powerline/fonts\n",
    "- https://github.com/FortAwesome/Font-Awesome/blob/master/use-on-desktop/Font%20Awesome%205%20Free-Regular-400.otf \n",
    "- https://github.com/Lokaltog/powerline/raw/develop/font/PowerlineSymbols.otf\n",
    "\n",
    "#### ZSH syntax highlighting\n",
    "\n",
    "https://github.com/zsh-users/zsh-syntax-highlighting/blob/master/INSTALL.md\n",
    "\n",
    "```\n",
    "brew install zsh-syntax-highlighting\n",
    "```\n",
    "\n",
    "#### iterm2 configuration\n",
    "\n",
    "Preferences file and color file in this repository.\n",
    "\n",
    "-----"
   ]
  },
  {
   "cell_type": "markdown",
   "metadata": {},
   "source": [
    "## Spectacle\n",
    "\n",
    "Window manager / resizer.\n",
    "\n",
    "https://www.spectacleapp.com/\n",
    "\n",
    "Bind left half and right half to ctrl-option-command L/R Next display to ctrl-option-command-UP Leave center/maximize, delete the rest\n",
    "\n",
    "![image.png](img/spectacle.png)\n",
    "\n",
    "-----"
   ]
  },
  {
   "cell_type": "markdown",
   "metadata": {},
   "source": [
    "## Karabiner\n",
    "\n",
    "Key rebinding.\n",
    "\n",
    "https://pqrs.org/osx/karabiner/\n",
    "\n",
    "Plus:\n",
    "\n",
    "```\n",
    "defaults write -g InitialKeyRepeat -int 15 # normal minimum is 15\n",
    "defaults write -g KeyRepeat -float 1.3 # normal minimum is 2\n",
    "defaults write NSGlobalDomain InitialKeyRepeat -int 15\n",
    "defaults write NSGlobalDomain KeyRepeat -float 1.3\n",
    "```\n",
    "\n",
    "(requires logout/login)\n",
    "\n",
    "-----"
   ]
  },
  {
   "cell_type": "markdown",
   "metadata": {},
   "source": [
    "## Anaconda\n",
    "\n",
    "Python installation and package manager\n",
    "\n",
    "https://www.anaconda.com/download/#macos (use hail dev environment)\n",
    "\n",
    "-----"
   ]
  },
  {
   "cell_type": "markdown",
   "metadata": {},
   "source": [
    "## iStats\n",
    "\n",
    "See if your computer is about to explode\n",
    "\n",
    "```\n",
    "gem install iStats\n",
    "```\n",
    "\n",
    "-----"
   ]
  },
  {
   "cell_type": "markdown",
   "metadata": {},
   "source": [
    "## Glances\n",
    "\n",
    "See why your computer is about to explode\n",
    "\n",
    "```\n",
    "pip install glances\n",
    "```\n",
    "\n",
    "-----"
   ]
  },
  {
   "cell_type": "markdown",
   "metadata": {},
   "source": [
    "## Terminal Notifier\n",
    "\n",
    "Used with aliases for terminal notifications.\n",
    "\n",
    "```\n",
    "brew install terminal-notifier\n",
    "```\n",
    "\n",
    "-----"
   ]
  },
  {
   "cell_type": "markdown",
   "metadata": {},
   "source": [
    "## Jupyter extensions\n",
    "\n",
    "https://jupyter-contrib-nbextensions.readthedocs.io/en/latest/install.html#install-the-python-package\n",
    "\n",
    "![image.png](img/nbextensions.png)\n",
    "\n",
    "-----"
   ]
  },
  {
   "cell_type": "markdown",
   "metadata": {},
   "source": [
    "## IntelliJ\n",
    "\n",
    "IDE\n",
    "\n",
    "https://www.jetbrains.com/idea/ \n",
    "\n",
    "config checked into this repository.\n",
    "\n",
    "-----"
   ]
  },
  {
   "cell_type": "markdown",
   "metadata": {},
   "source": [
    "## Zulip\n",
    "\n",
    "Chat app\n",
    "\n",
    "https://zulipchat.com/apps/mac\n",
    "\n",
    "-----"
   ]
  },
  {
   "cell_type": "markdown",
   "metadata": {},
   "source": [
    "## Slack\n",
    "\n",
    "Chat app\n",
    "\n",
    "https://slack.com/downloads/osx\n",
    "\n",
    "-----"
   ]
  },
  {
   "cell_type": "markdown",
   "metadata": {},
   "source": [
    "## Flux\n",
    "\n",
    "Don't go blind.\n",
    "\n",
    "https://justgetflux.com/\n",
    "\n",
    "4800K daylight\n",
    "\n",
    "-----"
   ]
  }
 ],
 "metadata": {
  "kernelspec": {
   "display_name": "Python 3",
   "language": "python",
   "name": "python3"
  },
  "language_info": {
   "codemirror_mode": {
    "name": "ipython",
    "version": 3
   },
   "file_extension": ".py",
   "mimetype": "text/x-python",
   "name": "python",
   "nbconvert_exporter": "python",
   "pygments_lexer": "ipython3",
   "version": "3.6.6"
  }
 },
 "nbformat": 4,
 "nbformat_minor": 2
}
